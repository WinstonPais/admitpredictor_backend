{
 "cells": [
  {
   "cell_type": "markdown",
   "id": "removed-copying",
   "metadata": {},
   "source": [
    "# Training the model"
   ]
  },
  {
   "cell_type": "code",
   "execution_count": 1,
   "id": "stretch-airline",
   "metadata": {},
   "outputs": [
    {
     "name": "stdout",
     "output_type": "stream",
     "text": [
      "INFO:tensorflow:Enabling eager execution\n",
      "INFO:tensorflow:Enabling v2 tensorshape\n",
      "INFO:tensorflow:Enabling resource variables\n",
      "INFO:tensorflow:Enabling tensor equality\n",
      "INFO:tensorflow:Enabling control flow v2\n"
     ]
    }
   ],
   "source": [
    "import tensorflow as tf\n",
    "import pandas as pd\n",
    "import numpy as np\n",
    "from sklearn.metrics import explained_variance_score"
   ]
  },
  {
   "cell_type": "code",
   "execution_count": 3,
   "id": "macro-cooling",
   "metadata": {},
   "outputs": [],
   "source": [
    "data = pd.read_csv('..\\Admission_Predict.csv')\n",
    "data.columns = [c.replace(' ', '_') for c in data.columns]\n",
    "data.columns = [c.replace('LOR_', 'LOR') for c in data.columns]\n",
    "data.columns = [c.replace('Chance_of_Admit_', 'Chance_of_Admit') for c in data.columns]\n",
    "data.columns = [c.replace('Chance_of_Admit', 'Admit') for c in data.columns]\n"
   ]
  },
  {
   "cell_type": "code",
   "execution_count": 4,
   "id": "graduate-shower",
   "metadata": {},
   "outputs": [],
   "source": [
    "from tensorflow import keras\n",
    "X=data[['GRE_Score','TOEFL_Score','University_Rating','SOP','LOR','CGPA','Research']]\n",
    "y = data[\"Admit\"]\n",
    "from sklearn.model_selection import train_test_split\n",
    "X_train,X_test,y_train,y_test=train_test_split(X,y,train_size=0.8,random_state=100)"
   ]
  },
  {
   "cell_type": "code",
   "execution_count": 49,
   "id": "rental-maria",
   "metadata": {},
   "outputs": [
    {
     "name": "stdout",
     "output_type": "stream",
     "text": [
      "Model: \"sequential_10\"\n",
      "_________________________________________________________________\n",
      "Layer (type)                 Output Shape              Param #   \n",
      "=================================================================\n",
      "dense_30 (Dense)             (None, 128)               1024      \n",
      "_________________________________________________________________\n",
      "activation_30 (Activation)   (None, 128)               0         \n",
      "_________________________________________________________________\n",
      "dense_31 (Dense)             (None, 32)                4128      \n",
      "_________________________________________________________________\n",
      "activation_31 (Activation)   (None, 32)                0         \n",
      "_________________________________________________________________\n",
      "dense_32 (Dense)             (None, 1)                 33        \n",
      "_________________________________________________________________\n",
      "activation_32 (Activation)   (None, 1)                 0         \n",
      "=================================================================\n",
      "Total params: 5,185\n",
      "Trainable params: 5,185\n",
      "Non-trainable params: 0\n",
      "_________________________________________________________________\n"
     ]
    }
   ],
   "source": [
    "from tensorflow.keras import Sequential\n",
    "from tensorflow.keras.layers import Dense, Activation\n",
    "model = Sequential()\n",
    "model.add(Dense(128, input_dim=7))\n",
    "model.add(Activation('sigmoid'))\n",
    "model.add(Dense(32))\n",
    "model.add(Activation('sigmoid'))\n",
    "model.add(Dense(1))\n",
    "model.add(Activation('sigmoid'))\n",
    "model.compile(loss=tf.keras.losses.MeanSquaredLogarithmicError(),optimizer='adam', metrics=[tf.keras.metrics.RootMeanSquaredError()])\n",
    "model.summary()"
   ]
  },
  {
   "cell_type": "code",
   "execution_count": 82,
   "id": "convertible-heater",
   "metadata": {},
   "outputs": [
    {
     "name": "stdout",
     "output_type": "stream",
     "text": [
      "4/4 [==============================] - 0s 0s/step - loss: 0.0018 - root_mean_squared_error: 0.0696\n",
      "[0.0018018120899796486, 0.06956997513771057]\n"
     ]
    }
   ],
   "source": [
    "model.fit(X_train, y_train, epochs=2000, batch_size=100, verbose=0)\n",
    "score = model.evaluate(X_test, y_test)\n",
    "print(score)"
   ]
  },
  {
   "cell_type": "code",
   "execution_count": 69,
   "id": "executed-bridal",
   "metadata": {},
   "outputs": [
    {
     "data": {
      "text/plain": [
       "array([[0.9361446]], dtype=float32)"
      ]
     },
     "execution_count": 69,
     "metadata": {},
     "output_type": "execute_result"
    }
   ],
   "source": [
    "model.predict([[337, 118, 4, 4.5, 4.5, 9.65, 1]])"
   ]
  },
  {
   "cell_type": "code",
   "execution_count": 54,
   "id": "rational-coast",
   "metadata": {},
   "outputs": [
    {
     "data": {
      "text/plain": [
       "array([[0.64954674]], dtype=float32)"
      ]
     },
     "execution_count": 54,
     "metadata": {},
     "output_type": "execute_result"
    }
   ],
   "source": [
    "model.predict([[309,111,2,2.5,4,8.03,0]])"
   ]
  },
  {
   "cell_type": "markdown",
   "id": "cosmetic-monster",
   "metadata": {},
   "source": [
    "# Pickling"
   ]
  },
  {
   "cell_type": "code",
   "execution_count": 212,
   "id": "infinite-contact",
   "metadata": {},
   "outputs": [],
   "source": [
    "import os.path\n",
    "if os.path.isfile('../tensorflow_neuralNetworks/tensorflow_neuralNetworks.h5') is False:\n",
    "    model.save('../tensorflow_neuralNetworks/tensorflow_neuralNetworks.h5')"
   ]
  },
  {
   "cell_type": "code",
   "execution_count": 2,
   "id": "given-chile",
   "metadata": {},
   "outputs": [],
   "source": [
    "from tensorflow.keras.models import load_model\n",
    "new_model=load_model('../tensorflow_neuralNetworks/tensorflow_neuralNetworks.h5')"
   ]
  },
  {
   "cell_type": "code",
   "execution_count": 3,
   "id": "grand-travel",
   "metadata": {},
   "outputs": [
    {
     "data": {
      "text/plain": [
       "array([[0.92634034]], dtype=float32)"
      ]
     },
     "execution_count": 3,
     "metadata": {},
     "output_type": "execute_result"
    }
   ],
   "source": [
    "new_model.predict([[337, 118, 4, 4.5, 4.5, 9.65, 1]])"
   ]
  },
  {
   "cell_type": "code",
   "execution_count": 5,
   "id": "natural-staff",
   "metadata": {},
   "outputs": [
    {
     "data": {
      "text/plain": [
       "0.92634034"
      ]
     },
     "execution_count": 5,
     "metadata": {},
     "output_type": "execute_result"
    }
   ],
   "source": [
    "new_model.predict([[337.0, 118.0, 4.0, 4.5, 4.5, 9.65, 1.0]])[0][0]"
   ]
  },
  {
   "cell_type": "code",
   "execution_count": null,
   "id": "collected-memphis",
   "metadata": {},
   "outputs": [],
   "source": []
  }
 ],
 "metadata": {
  "kernelspec": {
   "display_name": "Python 3",
   "language": "python",
   "name": "python3"
  },
  "language_info": {
   "codemirror_mode": {
    "name": "ipython",
    "version": 3
   },
   "file_extension": ".py",
   "mimetype": "text/x-python",
   "name": "python",
   "nbconvert_exporter": "python",
   "pygments_lexer": "ipython3",
   "version": "3.9.1"
  }
 },
 "nbformat": 4,
 "nbformat_minor": 5
}
