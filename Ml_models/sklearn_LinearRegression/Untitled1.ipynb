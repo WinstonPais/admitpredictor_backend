{
 "cells": [
  {
   "cell_type": "code",
   "execution_count": 10,
   "id": "backed-soccer",
   "metadata": {},
   "outputs": [
    {
     "data": {
      "text/plain": [
       "'0.24.2'"
      ]
     },
     "execution_count": 10,
     "metadata": {},
     "output_type": "execute_result"
    }
   ],
   "source": [
    "import sklearn\n",
    "sklearn.__version__"
   ]
  },
  {
   "cell_type": "code",
   "execution_count": 2,
   "id": "permanent-conflict",
   "metadata": {},
   "outputs": [],
   "source": [
    "import pandas as pd\n",
    "from sklearn.model_selection import train_test_split\n",
    "from sklearn.linear_model import LinearRegression"
   ]
  },
  {
   "cell_type": "code",
   "execution_count": 3,
   "id": "lightweight-study",
   "metadata": {},
   "outputs": [],
   "source": [
    "df = pd.read_csv('..\\Admission_Predict.csv')"
   ]
  },
  {
   "cell_type": "code",
   "execution_count": 4,
   "id": "running-lewis",
   "metadata": {},
   "outputs": [],
   "source": [
    "X = df.drop(['Serial No.', 'Chance of Admit '], axis=1)\n",
    "Y = df['Chance of Admit ']"
   ]
  },
  {
   "cell_type": "code",
   "execution_count": 5,
   "id": "solid-consequence",
   "metadata": {},
   "outputs": [
    {
     "name": "stdout",
     "output_type": "stream",
     "text": [
      "     GRE Score  TOEFL Score  University Rating  SOP  LOR   CGPA  Research\n",
      "5          330          115                  5  4.5   3.0  9.34         1\n",
      "116        299          102                  3  4.0   3.5  8.62         0\n",
      "45         322          110                  5  5.0   4.0  9.10         1\n",
      "16         317          107                  3  4.0   3.0  8.70         0\n",
      "462        307          105                  4  3.0   3.0  7.94         0\n",
      "..         ...          ...                ...  ...   ...   ...       ...\n",
      "106        329          111                  4  4.5   4.5  9.18         1\n",
      "270        306          105                  2  2.5   3.0  8.22         1\n",
      "348        302           99                  1  2.0   2.0  7.25         0\n",
      "435        309          105                  2  2.5   4.0  7.68         0\n",
      "102        314          106                  2  4.0   3.5  8.25         0\n",
      "\n",
      "[350 rows x 7 columns]\n"
     ]
    }
   ],
   "source": [
    "X_train, X_test, Y_train, Y_test = train_test_split(X, Y, test_size=0.3, random_state=42)\n",
    "print(X_train)"
   ]
  },
  {
   "cell_type": "code",
   "execution_count": 6,
   "id": "mighty-cabinet",
   "metadata": {},
   "outputs": [
    {
     "name": "stdout",
     "output_type": "stream",
     "text": [
      "[0.91741506 0.79586339 0.57331415 0.71296937 0.81766541 0.86159946\n",
      " 0.47853569 0.65501836 0.82444308 0.80745246 0.72441143 0.73075277\n",
      " 0.65336494 0.93602084 0.82603249 0.51251694 0.83678742 0.59441502\n",
      " 0.53763563 0.56844851 0.66183719 0.55405325 0.71919744 0.79241287\n",
      " 0.78092962 0.60437535 0.95120337 0.84627844 0.62940907 0.74281956\n",
      " 0.55814697 0.73597733 0.54933106 0.86192594 0.65322038 0.73614535\n",
      " 0.55561053 0.9588285  0.64202803 0.70997521 0.96801486 0.57117293\n",
      " 0.66729947 0.85771049 0.94159306 0.58142542 0.95967505 0.83736121\n",
      " 0.7912764  0.92684222 0.88830229 0.56385625 0.70660472 0.5220698\n",
      " 0.95425583 0.59561912 0.95867003 0.74402994 0.66664456 0.49857978\n",
      " 0.63114266 0.67738991 0.6020934  0.59462762 0.44030549 0.58979469\n",
      " 0.8672294  0.89754515 0.66041412 0.70992114 0.6143678  0.78484261\n",
      " 0.69143165 0.56383959 0.55636543 0.65574003 0.84804445 0.86497554\n",
      " 0.53881284 0.62893439 0.77153182 0.84840409 0.62215057 0.84544393\n",
      " 0.7289019  0.66130376 0.60845966 0.73692517 0.78872345 0.6648398\n",
      " 0.74091381 0.91007619 0.91369795 0.6532292  0.77753724 0.43659144\n",
      " 0.68799781 0.78433017 0.733823   0.65171076 0.79283392 0.74642847\n",
      " 0.6476612  0.67331261 0.65208602 0.54702022 0.72940561 0.80748331\n",
      " 0.63346592 0.69207323 0.64505692 0.95438094 0.84563686 0.97052731\n",
      " 0.46464272 0.82127194 0.673043   0.88556651 0.49832123 0.68802218\n",
      " 0.71831487 0.88852693 0.72171298 0.74818822 0.69051285 0.69553428\n",
      " 0.56992002 0.99525972 0.84642147 0.51564501 0.71818546 0.72521733\n",
      " 0.84506824 0.52272692 0.82674139 0.50446401 0.82578893 0.96535771\n",
      " 0.66067183 0.68167975 0.8017707  0.62261393 0.81798913 0.53023722\n",
      " 0.94840466 0.65925009 0.96605385 0.78560956 0.64233784 0.71923185]\n"
     ]
    }
   ],
   "source": [
    "model = LinearRegression()\n",
    "model.fit(X_train, Y_train)\n",
    "Y_pred = model.predict(X_test)\n",
    "print(Y_pred)"
   ]
  },
  {
   "cell_type": "code",
   "execution_count": 7,
   "id": "special-feeding",
   "metadata": {},
   "outputs": [
    {
     "data": {
      "text/plain": [
       "array([0.95967505, 0.80190743])"
      ]
     },
     "execution_count": 7,
     "metadata": {},
     "output_type": "execute_result"
    }
   ],
   "source": [
    "model.predict([[337, 118, 4, 4.5, 4.5, 9.65, 1], [324, 107, 4, 4.0, 4.5, 8.87, 1]])"
   ]
  },
  {
   "cell_type": "code",
   "execution_count": 8,
   "id": "surgical-length",
   "metadata": {},
   "outputs": [],
   "source": [
    "import joblib"
   ]
  },
  {
   "cell_type": "code",
   "execution_count": 9,
   "id": "handmade-blast",
   "metadata": {},
   "outputs": [
    {
     "data": {
      "text/plain": [
       "['sklearn_LinearRegression.pkl']"
      ]
     },
     "execution_count": 9,
     "metadata": {},
     "output_type": "execute_result"
    }
   ],
   "source": [
    "joblib.dump(model, 'sklearn_LinearRegression.pkl')"
   ]
  },
  {
   "cell_type": "code",
   "execution_count": null,
   "id": "cutting-chance",
   "metadata": {},
   "outputs": [],
   "source": []
  }
 ],
 "metadata": {
  "kernelspec": {
   "display_name": "temp",
   "language": "python",
   "name": "temp"
  },
  "language_info": {
   "codemirror_mode": {
    "name": "ipython",
    "version": 3
   },
   "file_extension": ".py",
   "mimetype": "text/x-python",
   "name": "python",
   "nbconvert_exporter": "python",
   "pygments_lexer": "ipython3",
   "version": "3.9.1"
  }
 },
 "nbformat": 4,
 "nbformat_minor": 5
}
